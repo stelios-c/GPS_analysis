{
 "cells": [
  {
   "cell_type": "markdown",
   "id": "328acda0-0164-4d7c-afaf-0b8b072e2155",
   "metadata": {
    "editable": true,
    "slideshow": {
     "slide_type": "slide"
    },
    "tags": []
   },
   "source": [
    "# Analysis of GPS disturbances in Norway"
   ]
  },
  {
   "cell_type": "code",
   "execution_count": 1,
   "id": "de6e8818-c082-4774-bb36-aa39aa547f01",
   "metadata": {
    "editable": true,
    "slideshow": {
     "slide_type": ""
    },
    "tags": []
   },
   "outputs": [
    {
     "name": "stdout",
     "output_type": "stream",
     "text": [
      "Collecting geopandas\n",
      "  Downloading geopandas-1.0.1-py3-none-any.whl.metadata (2.2 kB)\n",
      "Requirement already satisfied: numpy>=1.22 in /home/codespace/.local/lib/python3.12/site-packages (from geopandas) (2.2.4)\n",
      "Collecting pyogrio>=0.7.2 (from geopandas)\n",
      "  Downloading pyogrio-0.10.0-cp312-cp312-manylinux_2_28_x86_64.whl.metadata (5.5 kB)\n",
      "Requirement already satisfied: packaging in /home/codespace/.local/lib/python3.12/site-packages (from geopandas) (24.2)\n",
      "Requirement already satisfied: pandas>=1.4.0 in /home/codespace/.local/lib/python3.12/site-packages (from geopandas) (2.2.3)\n",
      "Collecting pyproj>=3.3.0 (from geopandas)\n",
      "  Downloading pyproj-3.7.1-cp312-cp312-manylinux_2_17_x86_64.manylinux2014_x86_64.whl.metadata (31 kB)\n",
      "Collecting shapely>=2.0.0 (from geopandas)\n",
      "  Downloading shapely-2.1.0-cp312-cp312-manylinux_2_17_x86_64.manylinux2014_x86_64.whl.metadata (6.7 kB)\n",
      "Requirement already satisfied: python-dateutil>=2.8.2 in /home/codespace/.local/lib/python3.12/site-packages (from pandas>=1.4.0->geopandas) (2.9.0.post0)\n",
      "Requirement already satisfied: pytz>=2020.1 in /home/codespace/.local/lib/python3.12/site-packages (from pandas>=1.4.0->geopandas) (2025.1)\n",
      "Requirement already satisfied: tzdata>=2022.7 in /home/codespace/.local/lib/python3.12/site-packages (from pandas>=1.4.0->geopandas) (2025.1)\n",
      "Requirement already satisfied: certifi in /home/codespace/.local/lib/python3.12/site-packages (from pyogrio>=0.7.2->geopandas) (2025.1.31)\n",
      "Requirement already satisfied: six>=1.5 in /home/codespace/.local/lib/python3.12/site-packages (from python-dateutil>=2.8.2->pandas>=1.4.0->geopandas) (1.17.0)\n",
      "Downloading geopandas-1.0.1-py3-none-any.whl (323 kB)\n",
      "Downloading pyogrio-0.10.0-cp312-cp312-manylinux_2_28_x86_64.whl (24.0 MB)\n",
      "\u001b[2K   \u001b[90m━━━━━━━━━━━━━━━━━━━━━━━━━━━━━━━━━━━━━━━━\u001b[0m \u001b[32m24.0/24.0 MB\u001b[0m \u001b[31m51.9 MB/s\u001b[0m eta \u001b[36m0:00:00\u001b[0m00:01\u001b[0m00:01\u001b[0m\n",
      "\u001b[?25hDownloading pyproj-3.7.1-cp312-cp312-manylinux_2_17_x86_64.manylinux2014_x86_64.whl (9.6 MB)\n",
      "\u001b[2K   \u001b[90m━━━━━━━━━━━━━━━━━━━━━━━━━━━━━━━━━━━━━━━━\u001b[0m \u001b[32m9.6/9.6 MB\u001b[0m \u001b[31m53.3 MB/s\u001b[0m eta \u001b[36m0:00:00\u001b[0m\n",
      "\u001b[?25hDownloading shapely-2.1.0-cp312-cp312-manylinux_2_17_x86_64.manylinux2014_x86_64.whl (3.1 MB)\n",
      "\u001b[2K   \u001b[90m━━━━━━━━━━━━━━━━━━━━━━━━━━━━━━━━━━━━━━━━\u001b[0m \u001b[32m3.1/3.1 MB\u001b[0m \u001b[31m64.0 MB/s\u001b[0m eta \u001b[36m0:00:00\u001b[0m\n",
      "\u001b[?25hInstalling collected packages: shapely, pyproj, pyogrio, geopandas\n",
      "Successfully installed geopandas-1.0.1 pyogrio-0.10.0 pyproj-3.7.1 shapely-2.1.0\n",
      "Note: you may need to restart the kernel to use updated packages.\n"
     ]
    }
   ],
   "source": [
    "%pip install geopandas"
   ]
  },
  {
   "cell_type": "code",
   "execution_count": 12,
   "id": "22392fb5-cfe0-475c-91e1-70beba70a30d",
   "metadata": {},
   "outputs": [
    {
     "name": "stdout",
     "output_type": "stream",
     "text": [
      "Collecting wikipedia\n",
      "  Downloading wikipedia-1.4.0.tar.gz (27 kB)\n",
      "  Installing build dependencies ... \u001b[?25ldone\n",
      "\u001b[?25h  Getting requirements to build wheel ... \u001b[?25ldone\n",
      "\u001b[?25h  Preparing metadata (pyproject.toml) ... \u001b[?25ldone\n",
      "\u001b[?25hRequirement already satisfied: beautifulsoup4 in /home/codespace/.local/lib/python3.12/site-packages (from wikipedia) (4.13.3)\n",
      "Requirement already satisfied: requests<3.0.0,>=2.0.0 in /home/codespace/.local/lib/python3.12/site-packages (from wikipedia) (2.32.3)\n",
      "Requirement already satisfied: charset-normalizer<4,>=2 in /home/codespace/.local/lib/python3.12/site-packages (from requests<3.0.0,>=2.0.0->wikipedia) (3.4.1)\n",
      "Requirement already satisfied: idna<4,>=2.5 in /home/codespace/.local/lib/python3.12/site-packages (from requests<3.0.0,>=2.0.0->wikipedia) (3.10)\n",
      "Requirement already satisfied: urllib3<3,>=1.21.1 in /home/codespace/.local/lib/python3.12/site-packages (from requests<3.0.0,>=2.0.0->wikipedia) (2.3.0)\n",
      "Requirement already satisfied: certifi>=2017.4.17 in /home/codespace/.local/lib/python3.12/site-packages (from requests<3.0.0,>=2.0.0->wikipedia) (2025.1.31)\n",
      "Requirement already satisfied: soupsieve>1.2 in /home/codespace/.local/lib/python3.12/site-packages (from beautifulsoup4->wikipedia) (2.6)\n",
      "Requirement already satisfied: typing-extensions>=4.0.0 in /home/codespace/.local/lib/python3.12/site-packages (from beautifulsoup4->wikipedia) (4.12.2)\n",
      "Building wheels for collected packages: wikipedia\n",
      "  Building wheel for wikipedia (pyproject.toml) ... \u001b[?25ldone\n",
      "\u001b[?25h  Created wheel for wikipedia: filename=wikipedia-1.4.0-py3-none-any.whl size=11758 sha256=821e6719f565b81bba9df42a6c6a287e8247223363a4ce391819ef3393c45bf9\n",
      "  Stored in directory: /home/codespace/.cache/pip/wheels/63/47/7c/a9688349aa74d228ce0a9023229c6c0ac52ca2a40fe87679b8\n",
      "Successfully built wikipedia\n",
      "Installing collected packages: wikipedia\n",
      "Successfully installed wikipedia-1.4.0\n",
      "Note: you may need to restart the kernel to use updated packages.\n"
     ]
    }
   ],
   "source": [
    "%pip install wikipedia"
   ]
  },
  {
   "cell_type": "code",
   "execution_count": 1,
   "id": "261b81a8-2a99-4870-a36f-adf599a03d9a",
   "metadata": {
    "editable": true,
    "slideshow": {
     "slide_type": ""
    },
    "tags": []
   },
   "outputs": [],
   "source": [
    "import pandas as pd\n",
    "import geopandas\n",
    "import matplotlib.pyplot as plt\n",
    "import wikipedia"
   ]
  },
  {
   "cell_type": "markdown",
   "id": "55ba5341-de31-46ac-99b5-749d47b788f3",
   "metadata": {
    "editable": true,
    "slideshow": {
     "slide_type": ""
    },
    "tags": []
   },
   "source": [
    "Get the global list of airports used for openflights.org. This is made available under the [Open Database License](https://opendatacommons.org/licenses/odbl/1-0/)."
   ]
  },
  {
   "cell_type": "code",
   "execution_count": 2,
   "id": "a3fa67c0-7e00-429a-869a-3d1200e3b7af",
   "metadata": {
    "editable": true,
    "slideshow": {
     "slide_type": ""
    },
    "tags": []
   },
   "outputs": [],
   "source": [
    "airports_path=\\\n",
    "'https://raw.githubusercontent.com/jpatokal/openflights/refs/heads/master/data/airports.dat'\n",
    "airports_df=pd.read_csv(airports_path,\n",
    "                        header=None,\n",
    "                        names=['Airport_ID','airport_name','city','country',\n",
    "                               'iata','icao','lat','lon','altitude','Timezone',\n",
    "                               'DST','Tz','type','source'],\n",
    "                        na_values='\\\\N',\n",
    "                        on_bad_lines='warn')"
   ]
  },
  {
   "cell_type": "markdown",
   "id": "2189cf50-e25b-4259-9240-8cf133d11ced",
   "metadata": {
    "editable": true,
    "slideshow": {
     "slide_type": ""
    },
    "tags": []
   },
   "source": [
    "Article from Barents observer lists Finnmark airports with problematic GPS performance.\n",
    "https://www.thebarentsobserver.com/security/russian-jamming-is-now-messing-up-gps-signals-for-norwegian-aviation-practically-every-day/163663"
   ]
  },
  {
   "cell_type": "markdown",
   "id": "e1b483ab-e2aa-4c2f-819b-42ffd633ffc2",
   "metadata": {
    "editable": true,
    "slideshow": {
     "slide_type": ""
    },
    "tags": []
   },
   "source": [
    "> GPS jamming reports are coming from pilots on the airliners SAS, Norwegian and Widerøe as well as civilian air ambulances flying in and out of Kirkenes airport and the smaller airports along the coast of Finnmark, like Vadsø, Vardø, Båtsfjord, Berlevåg and Mehamn.\n",
    "\n",
    "Note that the Norwegian placenames have special non-ascii characters."
   ]
  },
  {
   "cell_type": "code",
   "execution_count": 3,
   "id": "38bcf843-501c-4585-b130-d4dc341d39db",
   "metadata": {
    "editable": true,
    "slideshow": {
     "slide_type": "slide"
    },
    "tags": []
   },
   "outputs": [
    {
     "data": {
      "text/html": [
       "<div>\n",
       "<style scoped>\n",
       "    .dataframe tbody tr th:only-of-type {\n",
       "        vertical-align: middle;\n",
       "    }\n",
       "\n",
       "    .dataframe tbody tr th {\n",
       "        vertical-align: top;\n",
       "    }\n",
       "\n",
       "    .dataframe thead th {\n",
       "        text-align: right;\n",
       "    }\n",
       "</style>\n",
       "<table border=\"1\" class=\"dataframe\">\n",
       "  <thead>\n",
       "    <tr style=\"text-align: right;\">\n",
       "      <th></th>\n",
       "      <th>Airport_ID</th>\n",
       "      <th>airport_name</th>\n",
       "      <th>city</th>\n",
       "      <th>country</th>\n",
       "      <th>iata</th>\n",
       "      <th>icao</th>\n",
       "      <th>lat</th>\n",
       "      <th>lon</th>\n",
       "      <th>altitude</th>\n",
       "      <th>Timezone</th>\n",
       "      <th>DST</th>\n",
       "      <th>Tz</th>\n",
       "      <th>type</th>\n",
       "      <th>source</th>\n",
       "    </tr>\n",
       "  </thead>\n",
       "  <tbody>\n",
       "    <tr>\n",
       "      <th>621</th>\n",
       "      <td>630</td>\n",
       "      <td>Ålesund Airport</td>\n",
       "      <td>Alesund</td>\n",
       "      <td>Norway</td>\n",
       "      <td>AES</td>\n",
       "      <td>ENAL</td>\n",
       "      <td>62.562500</td>\n",
       "      <td>6.119700</td>\n",
       "      <td>69</td>\n",
       "      <td>1.0</td>\n",
       "      <td>E</td>\n",
       "      <td>Europe/Oslo</td>\n",
       "      <td>airport</td>\n",
       "      <td>OurAirports</td>\n",
       "    </tr>\n",
       "    <tr>\n",
       "      <th>622</th>\n",
       "      <td>631</td>\n",
       "      <td>Andøya Airport</td>\n",
       "      <td>Andoya</td>\n",
       "      <td>Norway</td>\n",
       "      <td>ANX</td>\n",
       "      <td>ENAN</td>\n",
       "      <td>69.292503</td>\n",
       "      <td>16.144199</td>\n",
       "      <td>43</td>\n",
       "      <td>1.0</td>\n",
       "      <td>E</td>\n",
       "      <td>Europe/Oslo</td>\n",
       "      <td>airport</td>\n",
       "      <td>OurAirports</td>\n",
       "    </tr>\n",
       "    <tr>\n",
       "      <th>623</th>\n",
       "      <td>632</td>\n",
       "      <td>Alta Airport</td>\n",
       "      <td>Alta</td>\n",
       "      <td>Norway</td>\n",
       "      <td>ALF</td>\n",
       "      <td>ENAT</td>\n",
       "      <td>69.976097</td>\n",
       "      <td>23.371700</td>\n",
       "      <td>9</td>\n",
       "      <td>1.0</td>\n",
       "      <td>E</td>\n",
       "      <td>Europe/Oslo</td>\n",
       "      <td>airport</td>\n",
       "      <td>OurAirports</td>\n",
       "    </tr>\n",
       "    <tr>\n",
       "      <th>624</th>\n",
       "      <td>633</td>\n",
       "      <td>Bømoen Airport</td>\n",
       "      <td>Voss</td>\n",
       "      <td>Norway</td>\n",
       "      <td>NaN</td>\n",
       "      <td>ENBM</td>\n",
       "      <td>60.638901</td>\n",
       "      <td>6.501500</td>\n",
       "      <td>300</td>\n",
       "      <td>1.0</td>\n",
       "      <td>E</td>\n",
       "      <td>Europe/Oslo</td>\n",
       "      <td>airport</td>\n",
       "      <td>OurAirports</td>\n",
       "    </tr>\n",
       "    <tr>\n",
       "      <th>625</th>\n",
       "      <td>634</td>\n",
       "      <td>Brønnøysund Airport</td>\n",
       "      <td>Bronnoysund</td>\n",
       "      <td>Norway</td>\n",
       "      <td>BNN</td>\n",
       "      <td>ENBN</td>\n",
       "      <td>65.461098</td>\n",
       "      <td>12.217500</td>\n",
       "      <td>25</td>\n",
       "      <td>1.0</td>\n",
       "      <td>E</td>\n",
       "      <td>Europe/Oslo</td>\n",
       "      <td>airport</td>\n",
       "      <td>OurAirports</td>\n",
       "    </tr>\n",
       "    <tr>\n",
       "      <th>...</th>\n",
       "      <td>...</td>\n",
       "      <td>...</td>\n",
       "      <td>...</td>\n",
       "      <td>...</td>\n",
       "      <td>...</td>\n",
       "      <td>...</td>\n",
       "      <td>...</td>\n",
       "      <td>...</td>\n",
       "      <td>...</td>\n",
       "      <td>...</td>\n",
       "      <td>...</td>\n",
       "      <td>...</td>\n",
       "      <td>...</td>\n",
       "      <td>...</td>\n",
       "    </tr>\n",
       "    <tr>\n",
       "      <th>5841</th>\n",
       "      <td>7872</td>\n",
       "      <td>Ringebu Airfield Frya</td>\n",
       "      <td>Frya</td>\n",
       "      <td>Norway</td>\n",
       "      <td>NaN</td>\n",
       "      <td>ENRI</td>\n",
       "      <td>61.545441</td>\n",
       "      <td>10.061588</td>\n",
       "      <td>571</td>\n",
       "      <td>1.0</td>\n",
       "      <td>E</td>\n",
       "      <td>Europe/Oslo</td>\n",
       "      <td>airport</td>\n",
       "      <td>OurAirports</td>\n",
       "    </tr>\n",
       "    <tr>\n",
       "      <th>6534</th>\n",
       "      <td>9255</td>\n",
       "      <td>Rakkestad Astorp Airport</td>\n",
       "      <td>Rakkestad</td>\n",
       "      <td>Norway</td>\n",
       "      <td>NaN</td>\n",
       "      <td>ENRK</td>\n",
       "      <td>59.397499</td>\n",
       "      <td>11.346900</td>\n",
       "      <td>400</td>\n",
       "      <td>1.0</td>\n",
       "      <td>E</td>\n",
       "      <td>Europe/Oslo</td>\n",
       "      <td>airport</td>\n",
       "      <td>OurAirports</td>\n",
       "    </tr>\n",
       "    <tr>\n",
       "      <th>6712</th>\n",
       "      <td>10080</td>\n",
       "      <td>Kautokeino Air Base</td>\n",
       "      <td>Kautokeino</td>\n",
       "      <td>Norway</td>\n",
       "      <td>QKX</td>\n",
       "      <td>ENKA</td>\n",
       "      <td>69.040298</td>\n",
       "      <td>23.034000</td>\n",
       "      <td>1165</td>\n",
       "      <td>1.0</td>\n",
       "      <td>U</td>\n",
       "      <td>NaN</td>\n",
       "      <td>airport</td>\n",
       "      <td>OurAirports</td>\n",
       "    </tr>\n",
       "    <tr>\n",
       "      <th>7490</th>\n",
       "      <td>13416</td>\n",
       "      <td>Pyramiden Heliport</td>\n",
       "      <td>Pyramiden</td>\n",
       "      <td>Norway</td>\n",
       "      <td>NaN</td>\n",
       "      <td>ENPY</td>\n",
       "      <td>78.652322</td>\n",
       "      <td>16.337208</td>\n",
       "      <td>6</td>\n",
       "      <td>1.0</td>\n",
       "      <td>E</td>\n",
       "      <td>NaN</td>\n",
       "      <td>airport</td>\n",
       "      <td>OurAirports</td>\n",
       "    </tr>\n",
       "    <tr>\n",
       "      <th>7632</th>\n",
       "      <td>13712</td>\n",
       "      <td>Engeløy Airport</td>\n",
       "      <td>Engeløy</td>\n",
       "      <td>Norway</td>\n",
       "      <td>NaN</td>\n",
       "      <td>ENEN</td>\n",
       "      <td>67.967222</td>\n",
       "      <td>14.992500</td>\n",
       "      <td>0</td>\n",
       "      <td>NaN</td>\n",
       "      <td>NaN</td>\n",
       "      <td>NaN</td>\n",
       "      <td>airport</td>\n",
       "      <td>OurAirports</td>\n",
       "    </tr>\n",
       "  </tbody>\n",
       "</table>\n",
       "<p>63 rows × 14 columns</p>\n",
       "</div>"
      ],
      "text/plain": [
       "      Airport_ID              airport_name         city country iata  icao  \\\n",
       "621          630           Ålesund Airport      Alesund  Norway  AES  ENAL   \n",
       "622          631            Andøya Airport       Andoya  Norway  ANX  ENAN   \n",
       "623          632              Alta Airport         Alta  Norway  ALF  ENAT   \n",
       "624          633            Bømoen Airport         Voss  Norway  NaN  ENBM   \n",
       "625          634       Brønnøysund Airport  Bronnoysund  Norway  BNN  ENBN   \n",
       "...          ...                       ...          ...     ...  ...   ...   \n",
       "5841        7872     Ringebu Airfield Frya         Frya  Norway  NaN  ENRI   \n",
       "6534        9255  Rakkestad Astorp Airport    Rakkestad  Norway  NaN  ENRK   \n",
       "6712       10080       Kautokeino Air Base   Kautokeino  Norway  QKX  ENKA   \n",
       "7490       13416        Pyramiden Heliport    Pyramiden  Norway  NaN  ENPY   \n",
       "7632       13712           Engeløy Airport      Engeløy  Norway  NaN  ENEN   \n",
       "\n",
       "            lat        lon  altitude  Timezone  DST           Tz     type  \\\n",
       "621   62.562500   6.119700        69       1.0    E  Europe/Oslo  airport   \n",
       "622   69.292503  16.144199        43       1.0    E  Europe/Oslo  airport   \n",
       "623   69.976097  23.371700         9       1.0    E  Europe/Oslo  airport   \n",
       "624   60.638901   6.501500       300       1.0    E  Europe/Oslo  airport   \n",
       "625   65.461098  12.217500        25       1.0    E  Europe/Oslo  airport   \n",
       "...         ...        ...       ...       ...  ...          ...      ...   \n",
       "5841  61.545441  10.061588       571       1.0    E  Europe/Oslo  airport   \n",
       "6534  59.397499  11.346900       400       1.0    E  Europe/Oslo  airport   \n",
       "6712  69.040298  23.034000      1165       1.0    U          NaN  airport   \n",
       "7490  78.652322  16.337208         6       1.0    E          NaN  airport   \n",
       "7632  67.967222  14.992500         0       NaN  NaN          NaN  airport   \n",
       "\n",
       "           source  \n",
       "621   OurAirports  \n",
       "622   OurAirports  \n",
       "623   OurAirports  \n",
       "624   OurAirports  \n",
       "625   OurAirports  \n",
       "...           ...  \n",
       "5841  OurAirports  \n",
       "6534  OurAirports  \n",
       "6712  OurAirports  \n",
       "7490  OurAirports  \n",
       "7632  OurAirports  \n",
       "\n",
       "[63 rows x 14 columns]"
      ]
     },
     "execution_count": 3,
     "metadata": {},
     "output_type": "execute_result"
    }
   ],
   "source": [
    "airports_df[airports_df.country=='Norway']"
   ]
  },
  {
   "cell_type": "markdown",
   "id": "b21d2408-7673-43f0-8000-24fd1b8733d8",
   "metadata": {
    "editable": true,
    "slideshow": {
     "slide_type": ""
    },
    "tags": []
   },
   "source": [
    "Note that in the airports data, the airport name has the special characters, whereas the city names are in the nearest ascii characters."
   ]
  },
  {
   "cell_type": "code",
   "execution_count": 4,
   "id": "dd6c35d8-1e63-4b50-997c-2fc9c45f92e3",
   "metadata": {
    "editable": true,
    "slideshow": {
     "slide_type": "slide"
    },
    "tags": []
   },
   "outputs": [],
   "source": [
    "affected_list='Kirkenes|Vadsø|Vardø|Båtsfjord|Berlevåg|Mehamn'\n",
    "norway_df=airports_df.query(\"airport_name.str.contains('\"+affected_list+\"')\")"
   ]
  },
  {
   "cell_type": "code",
   "execution_count": 5,
   "id": "7628eb20-2f8b-4866-be15-265e27f24740",
   "metadata": {},
   "outputs": [],
   "source": [
    "air_base=wikipedia.page(\"Olenya_air_base\").coordinates"
   ]
  },
  {
   "cell_type": "code",
   "execution_count": 14,
   "id": "36673514-87af-4bac-9ccf-9ccc31d765a4",
   "metadata": {},
   "outputs": [],
   "source": [
    "air_base_df=pd.DataFrame({'airport':'Olenya_base','latitude':float(air_base[0]),'longitude':float(air_base[1])},index=[0])"
   ]
  },
  {
   "cell_type": "code",
   "execution_count": 17,
   "id": "94aa7732-7c10-439b-a92c-c626e566ff99",
   "metadata": {
    "editable": true,
    "slideshow": {
     "slide_type": ""
    },
    "tags": []
   },
   "outputs": [],
   "source": [
    "countries=\"https://naciscdn.org/naturalearth/10m/cultural/ne_10m_admin_0_countries.zip\"\n",
    "world = (geopandas\n",
    "         .read_file(countries)\n",
    "         .clip([3, 63, 42, 72]).dropna(axis='columns',how='all')\n",
    "        )"
   ]
  },
  {
   "cell_type": "code",
   "execution_count": 18,
   "id": "c6e993e5-46b3-4d44-b9ba-2d9275e89cfc",
   "metadata": {
    "editable": true,
    "slideshow": {
     "slide_type": ""
    },
    "tags": []
   },
   "outputs": [
    {
     "data": {
      "image/png": "[encoded data removed]",
      "text/plain": [
       "<Figure size 640x480 with 1 Axes>"
      ]
     },
     "metadata": {},
     "output_type": "display_data"
    }
   ],
   "source": [
    "ax = (world\n",
    " .assign(\n",
    "     colour= world.SOVEREIGNT.where(world.SOVEREIGNT.str.match('Norway') | \n",
    "                                    world.SOVEREIGNT.str.match('Russia'),\n",
    "                                    'other')\n",
    " )\n",
    ").plot(column='colour',legend=True)\n",
    "geopandas.GeoDataFrame(norway_df, \n",
    "                       geometry=geopandas.points_from_xy(norway_df.lon, \n",
    "                                                         norway_df.lat), \n",
    "                       crs=\"EPSG:4326\").plot(ax=ax,color='red')\n",
    "geopandas.GeoDataFrame(air_base_df, \n",
    "                       geometry=geopandas.points_from_xy(air_base_df.longitude,\n",
    "                                                         air_base_df.latitude),\n",
    "                       crs=\"EPSG:4326\").plot(ax=ax,color='black')\n",
    "plt.show()"
   ]
  },
  {
   "cell_type": "markdown",
   "id": "d3969916-ec9a-455f-85a0-f37e70683cb9",
   "metadata": {
    "editable": true,
    "slideshow": {
     "slide_type": ""
    },
    "tags": []
   },
   "source": [
    "Map showing the Norwegian airports suffering from GNSS interference as red dots, and the Russian airbase which is a possible source of interference, overlayed on a map of the border area between Norway, Russia, Sweden and Finland.  \n",
    "\n",
    "Summarising \"High North, high drama\" article by Isabel Hilton in Prospect magazine October 2024:\n",
    "- In May 2023 Ukrainian drones hit the Engels airbase near Saratov which was used by long range bombers\n",
    "- In response to the drone attack, the bombers were relocated to the Olenya base on the Kola Peninsula near the border with Finland and Norway, while still being used in the war in Ukraine.\n",
    "- on 27th July (2024 according to [Wikipedia](https://en.wikipedia.org/wiki/Olenya_air_base#Russo-Ukrainian_War) which quotes the [Barents observer again](https://www.thebarentsobserver.com/security/ukrainian-drone-hit-tu22m3-bomber-at-olenya-airfield-intel-report-claims/166511)) there was a ukrainian drone attack on the Olenya base. The GPS interference must be part of the drone countermeasures at the base, and was already in place before this drone attack according to the Barents observer.  "
   ]
  },
  {
   "cell_type": "markdown",
   "id": "ff935a06-9c97-43f3-8b25-b23de6e3d188",
   "metadata": {
    "editable": true,
    "slideshow": {
     "slide_type": ""
    },
    "tags": []
   },
   "source": [
    "This analysis is available in my Github repository https://github.com/stelios-c/GPS_analysis"
   ]
  }
 ],
 "metadata": {
  "kernelspec": {
   "display_name": "Python 3 (ipykernel)",
   "language": "python",
   "name": "python3"
  },
  "language_info": {
   "codemirror_mode": {
    "name": "ipython",
    "version": 3
   },
   "file_extension": ".py",
   "mimetype": "text/x-python",
   "name": "python",
   "nbconvert_exporter": "python",
   "pygments_lexer": "ipython3",
   "version": "3.12.1"
  }
 },
 "nbformat": 4,
 "nbformat_minor": 5
}
