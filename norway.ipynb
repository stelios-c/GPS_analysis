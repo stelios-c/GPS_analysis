{
 "cells": [
  {
   "cell_type": "code",
   "execution_count": null,
   "id": "27f01ac5-4caf-49f5-a980-18228b04ea66",
   "metadata": {},
   "outputs": [],
   "source": [
    "#Kirkenes airport and the smaller airports along the coast of Finnmark, like Vadsø, Vardø, Båtsfjord, Berlevåg and Mehamn."
   ]
  },
  {
   "cell_type": "markdown",
   "id": "2189cf50-e25b-4259-9240-8cf133d11ced",
   "metadata": {},
   "source": [
    "https://www.thebarentsobserver.com/security/russian-jamming-is-now-messing-up-gps-signals-for-norwegian-aviation-practically-every-day/163663\n",
    "https://www.thebarentsobserver.com/security/intensified-gps-jamming-is-side-effect-of-russias-selfprotection-of-kola-bases/166119\n",
    "https://www.thebarentsobserver.com/news/we-were-spoofed-on-approaching-kirkenes-today/423323\n"
   ]
  },
  {
   "cell_type": "code",
   "execution_count": null,
   "id": "261b81a8-2a99-4870-a36f-adf599a03d9a",
   "metadata": {},
   "outputs": [],
   "source": []
  }
 ],
 "metadata": {
  "kernelspec": {
   "display_name": "Python 3 (ipykernel)",
   "language": "python",
   "name": "python3"
  },
  "language_info": {
   "codemirror_mode": {
    "name": "ipython",
    "version": 3
   },
   "file_extension": ".py",
   "mimetype": "text/x-python",
   "name": "python",
   "nbconvert_exporter": "python",
   "pygments_lexer": "ipython3",
   "version": "3.12.1"
  }
 },
 "nbformat": 4,
 "nbformat_minor": 5
}
