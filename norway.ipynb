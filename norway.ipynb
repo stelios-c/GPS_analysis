{
 "cells": [
  {
   "cell_type": "code",
   "execution_count": 2,
   "id": "eb56972e-80d3-4288-a74f-82bf21812693",
   "metadata": {
    "tags": []
   },
   "outputs": [
    {
     "name": "stdout",
     "output_type": "stream",
     "text": [
      "Collecting unidecode\n",
      "  Downloading Unidecode-1.3.8-py3-none-any.whl.metadata (13 kB)\n",
      "Downloading Unidecode-1.3.8-py3-none-any.whl (235 kB)\n",
      "Installing collected packages: unidecode\n",
      "Successfully installed unidecode-1.3.8\n",
      "\n",
      "\u001b[1m[\u001b[0m\u001b[34;49mnotice\u001b[0m\u001b[1;39;49m]\u001b[0m\u001b[39;49m A new release of pip is available: \u001b[0m\u001b[31;49m24.3.1\u001b[0m\u001b[39;49m -> \u001b[0m\u001b[32;49m25.0.1\u001b[0m\n",
      "\u001b[1m[\u001b[0m\u001b[34;49mnotice\u001b[0m\u001b[1;39;49m]\u001b[0m\u001b[39;49m To update, run: \u001b[0m\u001b[32;49mpython3 -m pip install --upgrade pip\u001b[0m\n",
      "Note: you may need to restart the kernel to use updated packages.\n"
     ]
    }
   ],
   "source": [
    "%pip install unidecode"
   ]
  },
  {
   "cell_type": "code",
   "execution_count": 2,
   "id": "261b81a8-2a99-4870-a36f-adf599a03d9a",
   "metadata": {},
   "outputs": [],
   "source": [
    "import pandas as pd\n",
    "#import unidecode"
   ]
  },
  {
   "cell_type": "markdown",
   "id": "2189cf50-e25b-4259-9240-8cf133d11ced",
   "metadata": {},
   "source": [
    "https://www.thebarentsobserver.com/security/russian-jamming-is-now-messing-up-gps-signals-for-norwegian-aviation-practically-every-day/163663\n",
    "https://www.thebarentsobserver.com/security/intensified-gps-jamming-is-side-effect-of-russias-selfprotection-of-kola-bases/166119\n",
    "https://www.thebarentsobserver.com/news/we-were-spoofed-on-approaching-kirkenes-today/423323\n"
   ]
  },
  {
   "cell_type": "code",
   "execution_count": 10,
   "id": "a3fa67c0-7e00-429a-869a-3d1200e3b7af",
   "metadata": {},
   "outputs": [],
   "source": [
    "airports_df=pd.read_csv(r'https://raw.githubusercontent.com/jpatokal/openflights/refs/heads/master/data/airports.dat',\n",
    "                        header=None,\n",
    "                        names=['no','airport_name','city','country','iata','icao','lat','lon','altitude','something','something2','region','type','source'],\n",
    "                        na_values='\\\\N',\n",
    "                        on_bad_lines='warn')"
   ]
  },
  {
   "cell_type": "markdown",
   "id": "e1b483ab-e2aa-4c2f-819b-42ffd633ffc2",
   "metadata": {},
   "source": [
    "> GPS jamming reports are coming from pilots on the airliners SAS, Norwegian and Widerøe as well as civilian air ambulances flying in and out of Kirkenes airport and the smaller airports along the coast of Finnmark, like Vadsø, Vardø, Båtsfjord, Berlevåg and Mehamn."
   ]
  },
  {
   "cell_type": "code",
   "execution_count": 17,
   "id": "dd6c35d8-1e63-4b50-997c-2fc9c45f92e3",
   "metadata": {},
   "outputs": [
    {
     "data": {
      "text/html": [
       "<div>\n",
       "<style scoped>\n",
       "    .dataframe tbody tr th:only-of-type {\n",
       "        vertical-align: middle;\n",
       "    }\n",
       "\n",
       "    .dataframe tbody tr th {\n",
       "        vertical-align: top;\n",
       "    }\n",
       "\n",
       "    .dataframe thead th {\n",
       "        text-align: right;\n",
       "    }\n",
       "</style>\n",
       "<table border=\"1\" class=\"dataframe\">\n",
       "  <thead>\n",
       "    <tr style=\"text-align: right;\">\n",
       "      <th></th>\n",
       "      <th>no</th>\n",
       "      <th>airport_name</th>\n",
       "      <th>city</th>\n",
       "      <th>country</th>\n",
       "      <th>iata</th>\n",
       "      <th>icao</th>\n",
       "      <th>lat</th>\n",
       "      <th>lon</th>\n",
       "      <th>altitude</th>\n",
       "      <th>something</th>\n",
       "      <th>something2</th>\n",
       "      <th>region</th>\n",
       "      <th>type</th>\n",
       "      <th>source</th>\n",
       "    </tr>\n",
       "  </thead>\n",
       "  <tbody>\n",
       "    <tr>\n",
       "      <th>628</th>\n",
       "      <td>637</td>\n",
       "      <td>Båtsfjord Airport</td>\n",
       "      <td>Batsfjord</td>\n",
       "      <td>Norway</td>\n",
       "      <td>BJF</td>\n",
       "      <td>ENBS</td>\n",
       "      <td>70.600502</td>\n",
       "      <td>29.691401</td>\n",
       "      <td>490</td>\n",
       "      <td>1.0</td>\n",
       "      <td>E</td>\n",
       "      <td>Europe/Oslo</td>\n",
       "      <td>airport</td>\n",
       "      <td>OurAirports</td>\n",
       "    </tr>\n",
       "    <tr>\n",
       "      <th>640</th>\n",
       "      <td>649</td>\n",
       "      <td>Kirkenes Airport (Høybuktmoen)</td>\n",
       "      <td>Kirkenes</td>\n",
       "      <td>Norway</td>\n",
       "      <td>KKN</td>\n",
       "      <td>ENKR</td>\n",
       "      <td>69.725800</td>\n",
       "      <td>29.891300</td>\n",
       "      <td>283</td>\n",
       "      <td>1.0</td>\n",
       "      <td>E</td>\n",
       "      <td>Europe/Oslo</td>\n",
       "      <td>airport</td>\n",
       "      <td>OurAirports</td>\n",
       "    </tr>\n",
       "    <tr>\n",
       "      <th>4062</th>\n",
       "      <td>4327</td>\n",
       "      <td>Mehamn Airport</td>\n",
       "      <td>Mehamn</td>\n",
       "      <td>Norway</td>\n",
       "      <td>MEH</td>\n",
       "      <td>ENMH</td>\n",
       "      <td>71.029701</td>\n",
       "      <td>27.826700</td>\n",
       "      <td>39</td>\n",
       "      <td>1.0</td>\n",
       "      <td>E</td>\n",
       "      <td>Europe/Oslo</td>\n",
       "      <td>airport</td>\n",
       "      <td>OurAirports</td>\n",
       "    </tr>\n",
       "    <tr>\n",
       "      <th>4063</th>\n",
       "      <td>4328</td>\n",
       "      <td>Vadsø Airport</td>\n",
       "      <td>Vadsø</td>\n",
       "      <td>Norway</td>\n",
       "      <td>VDS</td>\n",
       "      <td>ENVD</td>\n",
       "      <td>70.065300</td>\n",
       "      <td>29.844700</td>\n",
       "      <td>127</td>\n",
       "      <td>1.0</td>\n",
       "      <td>E</td>\n",
       "      <td>Europe/Oslo</td>\n",
       "      <td>airport</td>\n",
       "      <td>OurAirports</td>\n",
       "    </tr>\n",
       "    <tr>\n",
       "      <th>4080</th>\n",
       "      <td>4350</td>\n",
       "      <td>Berlevåg Airport</td>\n",
       "      <td>Berlevag</td>\n",
       "      <td>Norway</td>\n",
       "      <td>BVG</td>\n",
       "      <td>ENBV</td>\n",
       "      <td>70.871399</td>\n",
       "      <td>29.034201</td>\n",
       "      <td>42</td>\n",
       "      <td>1.0</td>\n",
       "      <td>E</td>\n",
       "      <td>Europe/Oslo</td>\n",
       "      <td>airport</td>\n",
       "      <td>OurAirports</td>\n",
       "    </tr>\n",
       "    <tr>\n",
       "      <th>4294</th>\n",
       "      <td>5589</td>\n",
       "      <td>Vardø Airport, Svartnes</td>\n",
       "      <td>Vardø</td>\n",
       "      <td>Norway</td>\n",
       "      <td>VAW</td>\n",
       "      <td>ENSS</td>\n",
       "      <td>70.355400</td>\n",
       "      <td>31.044901</td>\n",
       "      <td>42</td>\n",
       "      <td>1.0</td>\n",
       "      <td>E</td>\n",
       "      <td>Europe/Oslo</td>\n",
       "      <td>airport</td>\n",
       "      <td>OurAirports</td>\n",
       "    </tr>\n",
       "  </tbody>\n",
       "</table>\n",
       "</div>"
      ],
      "text/plain": [
       "        no                    airport_name       city country iata  icao  \\\n",
       "628    637               Båtsfjord Airport  Batsfjord  Norway  BJF  ENBS   \n",
       "640    649  Kirkenes Airport (Høybuktmoen)   Kirkenes  Norway  KKN  ENKR   \n",
       "4062  4327                  Mehamn Airport     Mehamn  Norway  MEH  ENMH   \n",
       "4063  4328                   Vadsø Airport      Vadsø  Norway  VDS  ENVD   \n",
       "4080  4350                Berlevåg Airport   Berlevag  Norway  BVG  ENBV   \n",
       "4294  5589         Vardø Airport, Svartnes      Vardø  Norway  VAW  ENSS   \n",
       "\n",
       "            lat        lon  altitude  something something2       region  \\\n",
       "628   70.600502  29.691401       490        1.0          E  Europe/Oslo   \n",
       "640   69.725800  29.891300       283        1.0          E  Europe/Oslo   \n",
       "4062  71.029701  27.826700        39        1.0          E  Europe/Oslo   \n",
       "4063  70.065300  29.844700       127        1.0          E  Europe/Oslo   \n",
       "4080  70.871399  29.034201        42        1.0          E  Europe/Oslo   \n",
       "4294  70.355400  31.044901        42        1.0          E  Europe/Oslo   \n",
       "\n",
       "         type       source  \n",
       "628   airport  OurAirports  \n",
       "640   airport  OurAirports  \n",
       "4062  airport  OurAirports  \n",
       "4063  airport  OurAirports  \n",
       "4080  airport  OurAirports  \n",
       "4294  airport  OurAirports  "
      ]
     },
     "execution_count": 17,
     "metadata": {},
     "output_type": "execute_result"
    }
   ],
   "source": [
    "airports_df.query(\"airport_name.str.contains('Kirkenes|Vadsø|Vardø|Båtsfjord|Berlevåg|Mehamn')\")"
   ]
  },
  {
   "cell_type": "code",
   "execution_count": null,
   "id": "c6e993e5-46b3-4d44-b9ba-2d9275e89cfc",
   "metadata": {},
   "outputs": [],
   "source": []
  }
 ],
 "metadata": {
  "kernelspec": {
   "display_name": "Python 3 (ipykernel)",
   "language": "python",
   "name": "python3"
  },
  "language_info": {
   "codemirror_mode": {
    "name": "ipython",
    "version": 3
   },
   "file_extension": ".py",
   "mimetype": "text/x-python",
   "name": "python",
   "nbconvert_exporter": "python",
   "pygments_lexer": "ipython3",
   "version": "3.12.1"
  }
 },
 "nbformat": 4,
 "nbformat_minor": 5
}
