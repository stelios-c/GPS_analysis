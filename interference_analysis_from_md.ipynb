{
 "cells": [
  {
   "cell_type": "markdown",
   "id": "362cd2e4-d42e-4fd7-adb4-20c87cdebd26",
   "metadata": {
    "editable": true,
    "slideshow": {
     "slide_type": "slide"
    },
    "tags": []
   },
   "source": [
    "# Discussion of GPS disruptions 2018-2021\n",
    "[_Stelios Christodoulou, M.Eng_](https://github.com/stelios-c)\n",
    "## Introduction\n",
    "\n",
    "Global Navigation Satellite Systems (GNSS), of which the United States Global Positioning System (GPS) is the most established, are key to a number of applications. As they depend on weak signals coming to terrestrial receivers from satellites in Medium Earth Orbit (MEO), they are also highly vulnerable to interference. The Blacket review by the United Kingdom's [Government Office for Science (2018)](#Government-Office-for-Science-(2018)) lists different GPS dependencies and vulnerabilities from a UK perspective.  \n",
    "\n",
    "GPS was originally designed for military use, and despite its numerous civilian applications it is also used for a number of modern military systems, particularly for Unmanned Aerial Vehicles (UAV). Electronic warfare (EW) techniques such as jamming and spoofing of GPS signals are often employed in conflict zones as a counter measure against UAVs and other GPS equiped systems. \n",
    "\n",
    "### Details on jammer location\n",
    "[Murrian et al (2021)](#Murrian-MJ,-Narula-L,-Iannucci-PA,-et-al.-(2021)) use data from the FOTON GNSS receiver on board the International Space Station, to detect and geolocate strong GNSS jammers globally between 50N and 50S. They find a weak jamming signal from Syria at the end of 2017, which becomes stronger in 2018. By the second half of 2019 another strong jamming signal appears, from Libya. The strengthening of jamming in Syria must be part of EW countermeasures following a combined UAV attack against the Russian naval base at Tartus and the air base at Hmeimim in January 2018,see story by [Eshel T. (2018)](#Eshel-T.-(2018)). Commentary from Russia did focus on the accuracy of the GPS coordinates programmed as targets for the UAV's, as quoted in [Trevithick(2018)](#Trevithick,-J.-(2018)) Similarly, the jamming in Libya could be part of countermeasures to UAV attacks, part of the ongoing civil war, as reported in [Anadolu Agency (2019) news item](#Anadolu-Agency-(31-October-2019)) . Both of those jamming signals are observed for GNSS bands L1 and L2. Additional interference is originating from China on band L2 only, and was present since March 2017.\n",
    "\n",
    "[Perez Marcos et al (2018)](#Pérez-Marcos,-E.,Konovaltsev,-A.,-Caizzone,-S.,-Cuntz,-M.,-Yinusa,-K.,-Elmarissi,-W.-and-Meurer,-M.-(2018)) use data from a GNSS receiver on board a cargo vessel crossing the Mediterranean, the Red Sea, Persian Gulf, Indian Ocean to the far East and back. They detect interference a number of times along the route, with the Suez canal the affected location of most relevance here. Interference in Suez was detected in September 2017.\n"
   ]
  },
  {
   "cell_type": "markdown",
   "id": "0432bf48-e665-4a8a-b8ab-f6233c5e22e8",
   "metadata": {
    "editable": true,
    "slideshow": {
     "slide_type": "slide"
    },
    "tags": []
   },
   "source": [
    "### Areas where GPS receivers suffer from jamming\n",
    "Another analysis focused on the effect on commercial shipping from the [NATO Shipping Centre (2022)](#NATO-Shipping-Centre-(2022)) shows the affected area in the Central Mediterranean as an ellipse overlayed on a maritime routes map (probably AIS) centred on Malta and reaching the southern tip of Sicily, with GPS issues there said to be dating since the summer of 2019. The main maritime routes from western to eastern meditteranean go between Malta and Sicily and therefore through this ellipse.  In the Eastern Mediterranean, one ellipse is centred on Limassol Cyprus, covering routes out of Limassol but also routes from the west, past Cyprus to Beirut Lebanon. Another centred on Port Said Egypt, covering traffic in and out of the Suez canal. One off shore from Lebanon covering traffic to and from Beirut and finally offshore from Mersin and Iskenderun, Turkey covering the intersection of the route from Mersin to the south, with the route from Iskenderun west.\n",
    "\n",
    "The effect on civilian aviation in the Mediterranean sea and beyond is shown in [maps produced by the Airbus Skywise system for the second half of 2020](#Eurocontrol-Aviation-Intelligence-Unit,-Think-Paper-#9-(2021)), and for the whole of 2021 and included in Eurocontrol reports. The Airbus Skywise maps also show interference near the Russia Ukraine border, and elsewhere in Russia. [Gerhard Berz (2022)](#Berz-G.-EUROCONTROL-(2022)) of Eurocontrol mentions that the 2021 map matches pilot reports and that the interference locations have been stable since 2018. He also provides a different jamming scenario, from a private yacht in the Netherlands equipped with an anti paparazzi drone jammer, detected by analysing ADS-B data. \n",
    "\n",
    "Theoretically the range of the jammer should be much greater for airborne GNSS receivers compared to GNSS receivers on land or on ships. An analysis of the expected effect of a military jamming exercise at West Freugh published by [Ofcom (2022)](#Ofcom-(2022)) lists a range of up to 7 km, but directional, for GNSS receivers at 2m AMSL, which becomes  up to 50 km in all directions for reveivers at 5,000ft AMSL and up to 90 km at 10,000ft AMSL and above. Such [approved GPS Testing(2022)](#Navigation-Center,-United-States-Coast-Guard-(2022)) by the US military is also published in advance, and it could be one of the sources of interference in US territory along with the use of illegal jammers by civilians. \n",
    "\n",
    "## Discussion\n",
    "\n",
    "Comparing [Murrian et al (2021)](#Murrian-MJ,-Narula-L,-Iannucci-PA,-et-al.-(2021)) with the [NATO Shipping Centre (2022)](#NATO-Shipping-Centre-(2022)) we can safely group together Libya, Malta and southern Italy as all within range of interference from Libya. While the NATO report is not so unequivocal about Cyprus, Lebanon and South East Turkey all being within range of Syria based jammers, we could also make this assumption. However, [Spire (2023)](#Spire-(2023)) results suggest that Syria, Lebanon (\"north of Israel\") and Turkey should be treated as separate jammer locations. Cyprus could be affected by any combination of the 3, the ports on the south eastern coast are probably more within range of Syria and Lebanon.\n",
    "\n",
    "[Perez Marcos et al (2018)](#Pérez-Marcos,-E.,Konovaltsev,-A.,-Caizzone,-S.,-Cuntz,-M.,-Yinusa,-K.,-Elmarissi,-W.-and-Meurer,-M.-(2018)) detect interference in Egypt in September 2017, well before the strengthening of interference from Syria in 2018. This combined with the greater distance from Syria suggests that Egypt should be considered separately to other interference locations in the Eastern Mediterranean.\n",
    "\n",
    "[Murrian et al (2021)](#Murrian-MJ,-Narula-L,-Iannucci-PA,-et-al.-(2021)) detect interference from China on the L2 frequency only. Given that cheaper and older GPS receivers operate at the L1 frequency only, this wouldn't be very effective as a jammer, it is more likely unintended interference. Their global analysis only covers up to 50N which is the approximate latitude of Kharkiv in Eastern Ukraine. The active conflict at the time was to the south of this location, in Donbass. Their heatmap shows a 'footprint' of detected interference to the west of the jammer location. Since Syria is well to the west of Libya and jamming in Libya started much later, they are easier to discriminate. But Kharkiv is nearly directly to the north of Syria, and assuming interference in or near Donbass has been present for as long as in Syria, it would be harder to discriminate the two. The map in [Gerhard Berz (2022)](#Berz-G.-EUROCONTROL-(2022)) shows significant RFI detected further north and away from the ukrainian border, nearer Voronezh, and a separate area of weaker RFI in Moscow. Both of those are well north of 50N. The [NATO Shipping Centre (2022)](#NATO-Shipping-Centre-(2022)) maps will be more relevant to interference experienced by vessels at sea level, with the [maps produced by the Airbus Skywise system for the second half of 2020](#Eurocontrol-Aviation-Intelligence-Unit,-Think-Paper-#9-(2021)) and [2021](#Berz-G.-EUROCONTROL-(2022)) showing the interference experienced by aircraft at cruising height.\n",
    "\n",
    "[Gerhard Berz (2022)](#Berz-G.-EUROCONTROL-(2022)) of Eurocontrol comments, that the interference locations shown in the 2021 Airbus Skywise map have been stable since 2018, would be consistent with [Murrian et al (2021)](#Murrian-MJ,-Narula-L,-Iannucci-PA,-et-al.-(2021)) regarding Syria, Suez and China but contradicts the emergence of strong interference from Libya in the middle of 2019. But [NATO Shipping Centre (2022)](#NATO-Shipping-Centre-(2022)) confirms the mid 2019 onset of interference from Libya. Their ellipse centred on Malta, showing area affected, does not extend down to Libya, but the NATO ellipses should be interpreted as the overlap between areas affected by interference, and busy maritime routes. This would also allow for uniting the less busy area between the three ellipses in the North Eastern Mediterranean, to show the entire triangle between Mersin, Beirut and Limassol as affected by the jammers on or near the Syrian coast.\n",
    "\n",
    "## Financial support - Conflict of Interest\n",
    "\n",
    "This work was done in my own personal time, using information in the public domain, my personal computing resources, and not funded by my current or previous employers or other parties. It is made available under the Creative Commons Attribution-ShareAlike 4.0 International License.\n",
    "\n",
    "## References\n",
    "\n",
    "##### Anadolu Agency (31 October 2019) \n",
    "[Libya: Haftar forces attack Misrata Air College. College bombed five times by unmanned aerial vehicles, says source with GNA forces.](https://www.aa.com.tr/en/africa/libya-haftar-forces-attack-misrata-air-college/1631348)\n",
    "\n",
    "##### Berz G. EUROCONTROL (2022) \n",
    "[Monitoring GNSS RF Interference, NM User Forum, Monitoring CNS Infrastructure Performance](https://www.eurocontrol.int/sites/default/files/2022-02/eurocontrol-nm-user-forum-gerhard-berz.pdf)\n",
    "  \n",
    "\n",
    "##### Eurocontrol Aviation Intelligence Unit, Think Paper #9 (2021) \n",
    "[Does Radio Frequency Interference to Satellite Navigation pose an increasing threat to Network efficiency, cost-effectiveness and ultimately safety?](https://www.eurocontrol.int/publication/eurocontrol-think-paper-9-radio-frequency-interference-satellite-navigation-active)\n",
    "\n",
    "##### Eshel T. (2018)\n",
    "[Defense update: Russian Forces in Syria Repelled Massive Drone Attack on Hmeimim and Tartus](https://defense-update.com/20180108_uav_attack.html)\n",
    "\n",
    "##### Government Office for Science (2018) \n",
    "[Satellite-derived Time and Position: A Study of Critical Dependencies](https://www.gov.uk/government/publications/satellite-derived-time-and-position-blackett-review)\n",
    "\n",
    "##### Murrian MJ, Narula L, Iannucci PA, et al. (2021)\n",
    "First results from three years of GNSS interference monitoring from low Earth orbit. NAVIGATION. 2021;68:673–685. https://doi.org/10.1002/navi.449\n",
    "\n",
    "##### NATO Shipping Centre (2022)\n",
    "[Threat to commercial shipping in the Mediterranean](https://shipping.nato.int/nsc/operations/news/2021/threat-to-commercial-shipping-in-the-mediterranean)\n",
    "\n",
    "##### Navigation Center, United States Coast Guard (2022)\n",
    "[Approved GPS Testing](https://navcen.uscg.gov/sites/default/files/pdf/gps/GPS_Interference.pdf)\n",
    "\n",
    "##### Ofcom (2022) \n",
    "[Ofcom Website > Spectrum > Spectrum information > GPS jamming exercises](https://web.archive.org/web/20220121015758/https://www.ofcom.org.uk/spectrum/information/gps-jamming-exercises)\n",
    "\n",
    "##### Pérez Marcos, E.,Konovaltsev, A., Caizzone, S., Cuntz, M., Yinusa, K., Elmarissi, W. and Meurer, M. (2018) \n",
    "[Interference and Spoofing Detection for GNSS Maritime Applications using Direction of Arrival and Conformal Antenna Array](https://elib.dlr.de/127019/1/E2_PerezMarcos_Emilio_final.pdf)\n",
    "\n",
    "##### Spire (2023)\n",
    "[GNSS Interference Monitoring from LEO, NAVISP EL2-117 Final Presentation](https://navisp.esa.int/uploads/files/project_documents/NAVISP%20EL2-117%20Presentation%20Final%20(1).pdf?v=413045)\n",
    "\n",
    "##### Trevithick, J. (2018)\n",
    "[Russia Implies Drone Swarm Attack On Its Base in Syria Linked to US P-8 Patrol Plane](https://www.thedrive.com/the-war-zone/17527/russia-is-trying-to-link-the-drone-swarm-attack-in-syria-to-a-us-p-8-patrol-plane)"
   ]
  }
 ],
 "metadata": {
  "kernelspec": {
   "display_name": "Python 3 (ipykernel)",
   "language": "python",
   "name": "python3"
  },
  "language_info": {
   "codemirror_mode": {
    "name": "ipython",
    "version": 3
   },
   "file_extension": ".py",
   "mimetype": "text/x-python",
   "name": "python",
   "nbconvert_exporter": "python",
   "pygments_lexer": "ipython3",
   "version": "3.10.13"
  }
 },
 "nbformat": 4,
 "nbformat_minor": 5
}
