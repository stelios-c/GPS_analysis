{
 "cells": [
  {
   "cell_type": "markdown",
   "id": "aa7e78ed-5d8c-4a49-b9cc-3cc07046fa5d",
   "metadata": {
    "editable": true,
    "slideshow": {
     "slide_type": "slide"
    },
    "tags": []
   },
   "source": [
    "# Satellite navigation disturbances in Finland"
   ]
  },
  {
   "cell_type": "code",
   "execution_count": 2,
   "id": "5cb36e41-7feb-41cb-8b99-75753db8759e",
   "metadata": {
    "editable": true,
    "slideshow": {
     "slide_type": ""
    },
    "tags": []
   },
   "outputs": [
    {
     "name": "stdout",
     "output_type": "stream",
     "text": [
      "Requirement already satisfied: lxml in /usr/local/python/3.10.13/lib/python3.10/site-packages (5.2.1)\n",
      "Note: you may need to restart the kernel to use updated packages.\n"
     ]
    }
   ],
   "source": [
    "%pip install lxml"
   ]
  },
  {
   "cell_type": "markdown",
   "id": "14f4d9f0-b087-40af-9853-0847cab1bd7c",
   "metadata": {},
   "source": [
    "required on Codespaces for pd.read_html()"
   ]
  },
  {
   "cell_type": "code",
   "execution_count": 1,
   "id": "159a8df7-1812-44d6-98c0-809906c05a81",
   "metadata": {
    "editable": true,
    "slideshow": {
     "slide_type": ""
    },
    "tags": []
   },
   "outputs": [],
   "source": [
    "import pandas as pd\n",
    "import datetime as dt"
   ]
  },
  {
   "cell_type": "code",
   "execution_count": 16,
   "id": "139f8ca0-9826-4364-ab56-1b8288c36c07",
   "metadata": {
    "editable": true,
    "slideshow": {
     "slide_type": ""
    },
    "tags": []
   },
   "outputs": [],
   "source": [
    "url='situational-picture-disturbances-satellite-navigation-finland-2024'\n",
    "(pd\n",
    " .read_html('https://www.traficom.fi/en/news/'+url)\n",
    " [0]\n",
    " .to_csv('finland_disturbance.csv',index=False)\n",
    ")"
   ]
  },
  {
   "cell_type": "markdown",
   "id": "49393367-93ca-4577-b6e7-a91471075112",
   "metadata": {
    "editable": true,
    "slideshow": {
     "slide_type": ""
    },
    "tags": []
   },
   "source": [
    "Save data locally to avoid webscraping everytime I rerun the notebook."
   ]
  },
  {
   "cell_type": "code",
   "execution_count": 2,
   "id": "593afdba-b997-4055-8e6a-1cb2013c1c2f",
   "metadata": {
    "editable": true,
    "slideshow": {
     "slide_type": ""
    },
    "tags": []
   },
   "outputs": [],
   "source": [
    "fi_data=pd.read_csv('finland_disturbance.csv',header=1)"
   ]
  },
  {
   "cell_type": "code",
   "execution_count": 3,
   "id": "9554b6ed-01db-43ea-96ca-ff0ddcb6bcb0",
   "metadata": {
    "editable": true,
    "slideshow": {
     "slide_type": "slide"
    },
    "tags": []
   },
   "outputs": [
    {
     "data": {
      "text/html": [
       "<div>\n",
       "<style scoped>\n",
       "    .dataframe tbody tr th:only-of-type {\n",
       "        vertical-align: middle;\n",
       "    }\n",
       "\n",
       "    .dataframe tbody tr th {\n",
       "        vertical-align: top;\n",
       "    }\n",
       "\n",
       "    .dataframe thead th {\n",
       "        text-align: right;\n",
       "    }\n",
       "</style>\n",
       "<table border=\"1\" class=\"dataframe\">\n",
       "  <thead>\n",
       "    <tr style=\"text-align: right;\">\n",
       "      <th></th>\n",
       "      <th>Year</th>\n",
       "      <th>Finland</th>\n",
       "      <th>Finnish operators’ notifications outside of Finland</th>\n",
       "    </tr>\n",
       "  </thead>\n",
       "  <tbody>\n",
       "    <tr>\n",
       "      <th>0</th>\n",
       "      <td>2018</td>\n",
       "      <td>0</td>\n",
       "      <td>6</td>\n",
       "    </tr>\n",
       "    <tr>\n",
       "      <th>1</th>\n",
       "      <td>2019</td>\n",
       "      <td>8</td>\n",
       "      <td>137</td>\n",
       "    </tr>\n",
       "    <tr>\n",
       "      <th>2</th>\n",
       "      <td>2020</td>\n",
       "      <td>27</td>\n",
       "      <td>34</td>\n",
       "    </tr>\n",
       "    <tr>\n",
       "      <th>3</th>\n",
       "      <td>2021</td>\n",
       "      <td>8</td>\n",
       "      <td>71</td>\n",
       "    </tr>\n",
       "    <tr>\n",
       "      <th>4</th>\n",
       "      <td>2022</td>\n",
       "      <td>65</td>\n",
       "      <td>1331</td>\n",
       "    </tr>\n",
       "    <tr>\n",
       "      <th>5</th>\n",
       "      <td>2023</td>\n",
       "      <td>239</td>\n",
       "      <td>7370</td>\n",
       "    </tr>\n",
       "    <tr>\n",
       "      <th>6</th>\n",
       "      <td>2024 (by 30 April)</td>\n",
       "      <td>Around 1200</td>\n",
       "      <td>Around 2100</td>\n",
       "    </tr>\n",
       "  </tbody>\n",
       "</table>\n",
       "</div>"
      ],
      "text/plain": [
       "                 Year      Finland  \\\n",
       "0                2018            0   \n",
       "1                2019            8   \n",
       "2                2020           27   \n",
       "3                2021            8   \n",
       "4                2022           65   \n",
       "5                2023          239   \n",
       "6  2024 (by 30 April)  Around 1200   \n",
       "\n",
       "  Finnish operators’ notifications outside of Finland  \n",
       "0                                                  6   \n",
       "1                                                137   \n",
       "2                                                 34   \n",
       "3                                                 71   \n",
       "4                                               1331   \n",
       "5                                               7370   \n",
       "6                                        Around 2100   "
      ]
     },
     "execution_count": 3,
     "metadata": {},
     "output_type": "execute_result"
    }
   ],
   "source": [
    "fi_data"
   ]
  },
  {
   "cell_type": "markdown",
   "id": "19a51bb6-4be1-440f-9ea0-40789787261f",
   "metadata": {
    "editable": true,
    "slideshow": {
     "slide_type": ""
    },
    "tags": []
   },
   "source": [
    "Unfortunately the last line is not purely numeric and needs some cleanup."
   ]
  },
  {
   "cell_type": "code",
   "execution_count": 21,
   "id": "473b3108-d3ad-48ce-aae3-eefc68979865",
   "metadata": {
    "editable": true,
    "slideshow": {
     "slide_type": ""
    },
    "tags": []
   },
   "outputs": [],
   "source": [
    "def parse_date(input_str):\n",
    "    return dt.datetime.strptime(input_str,'%d %B %Y')\n",
    "def clean_table(df):\n",
    "    return df.assign(\n",
    "        disturbance_year=fi_data\n",
    "        .Year.str.split(' ',expand=True)[0],#.astype('int32'),\n",
    "        end_date =(fi_data\n",
    "        .Year.str.split('by ',expand=True)[1].str.rstrip(')').fillna('31 December')+' '+fi_data\n",
    "        .Year.str.split(' ',expand=True)[0]).apply(parse_date).dt.dayofyear,\n",
    "        disturbances_Finland=fi_data\n",
    "        .Finland.str.replace('Around ','').astype('int32'),\n",
    "        disturbances_Outside=fi_data\n",
    "        ['Finnish operators’ notifications outside of Finland']\n",
    "        .str.replace('Around ','').astype('int32'),\n",
    "        weighting_factors=365/(fi_data\n",
    "        .Year.str.split('by ',expand=True)[1].str.rstrip(')').fillna('31 December')+' '+fi_data\n",
    "        .Year.str.split(' ',expand=True)[0]).apply(parse_date).dt.dayofyear\n",
    "        )"
   ]
  },
  {
   "cell_type": "code",
   "execution_count": 22,
   "id": "0c0bfb5f-8c0e-45b4-afaa-61d1d9a05ae2",
   "metadata": {},
   "outputs": [
    {
     "name": "stdout",
     "output_type": "stream",
     "text": [
      "2024-04-30 00:00:00\n"
     ]
    }
   ],
   "source": [
    "print(dt.datetime.strptime('30 April 2024','%d %B %Y'))"
   ]
  },
  {
   "cell_type": "code",
   "execution_count": 23,
   "id": "f22cca76-63df-474a-a266-adb260bf8a3b",
   "metadata": {},
   "outputs": [
    {
     "name": "stdout",
     "output_type": "stream",
     "text": [
      "2024-04-30 00:00:00\n"
     ]
    }
   ],
   "source": [
    "print(parse_date('30 April 2024'))"
   ]
  },
  {
   "cell_type": "code",
   "execution_count": 24,
   "id": "0aabaea1-0f44-4149-9271-6e03d99689ab",
   "metadata": {
    "editable": true,
    "slideshow": {
     "slide_type": "slide"
    },
    "tags": []
   },
   "outputs": [
    {
     "data": {
      "text/plain": [
       "array([<Axes: xlabel='disturbance_year'>,\n",
       "       <Axes: xlabel='disturbance_year'>,\n",
       "       <Axes: xlabel='disturbance_year'>,\n",
       "       <Axes: xlabel='disturbance_year'>], dtype=object)"
      ]
     },
     "execution_count": 24,
     "metadata": {},
     "output_type": "execute_result"
    },
    {
     "data": {
      "image/png": "[encoded data removed]",
      "text/plain": [
       "<Figure size 640x480 with 4 Axes>"
      ]
     },
     "metadata": {},
     "output_type": "display_data"
    }
   ],
   "source": [
    "(fi_data\n",
    " .pipe(clean_table)\n",
    " .set_index('disturbance_year')\n",
    " .plot(subplots=True)\n",
    ")"
   ]
  },
  {
   "cell_type": "code",
   "execution_count": 25,
   "id": "ac0174c2-026d-48d9-b2da-501fa3670e49",
   "metadata": {
    "editable": true,
    "slideshow": {
     "slide_type": ""
    },
    "tags": []
   },
   "outputs": [
    {
     "data": {
      "text/html": [
       "<div>\n",
       "<style scoped>\n",
       "    .dataframe tbody tr th:only-of-type {\n",
       "        vertical-align: middle;\n",
       "    }\n",
       "\n",
       "    .dataframe tbody tr th {\n",
       "        vertical-align: top;\n",
       "    }\n",
       "\n",
       "    .dataframe thead th {\n",
       "        text-align: right;\n",
       "    }\n",
       "</style>\n",
       "<table border=\"1\" class=\"dataframe\">\n",
       "  <thead>\n",
       "    <tr style=\"text-align: right;\">\n",
       "      <th></th>\n",
       "      <th>disturbances_Finland</th>\n",
       "      <th>disturbances_Outside</th>\n",
       "    </tr>\n",
       "  </thead>\n",
       "  <tbody>\n",
       "    <tr>\n",
       "      <th>disturbances_Finland</th>\n",
       "      <td>1.000000</td>\n",
       "      <td>0.272785</td>\n",
       "    </tr>\n",
       "    <tr>\n",
       "      <th>disturbances_Outside</th>\n",
       "      <td>0.272785</td>\n",
       "      <td>1.000000</td>\n",
       "    </tr>\n",
       "  </tbody>\n",
       "</table>\n",
       "</div>"
      ],
      "text/plain": [
       "                      disturbances_Finland  disturbances_Outside\n",
       "disturbances_Finland              1.000000              0.272785\n",
       "disturbances_Outside              0.272785              1.000000"
      ]
     },
     "execution_count": 25,
     "metadata": {},
     "output_type": "execute_result"
    }
   ],
   "source": [
    "(fi_data\n",
    " .pipe(clean_table)\n",
    " .set_index('disturbance_year')[['disturbances_Finland','disturbances_Outside']]\n",
    " .corr(numeric_only=True)\n",
    ")"
   ]
  },
  {
   "cell_type": "code",
   "execution_count": 26,
   "id": "9121e7cb-90ce-4c24-b087-a216c8150615",
   "metadata": {
    "editable": true,
    "slideshow": {
     "slide_type": ""
    },
    "tags": []
   },
   "outputs": [
    {
     "data": {
      "text/html": [
       "<div>\n",
       "<style scoped>\n",
       "    .dataframe tbody tr th:only-of-type {\n",
       "        vertical-align: middle;\n",
       "    }\n",
       "\n",
       "    .dataframe tbody tr th {\n",
       "        vertical-align: top;\n",
       "    }\n",
       "\n",
       "    .dataframe thead th {\n",
       "        text-align: right;\n",
       "    }\n",
       "</style>\n",
       "<table border=\"1\" class=\"dataframe\">\n",
       "  <thead>\n",
       "    <tr style=\"text-align: right;\">\n",
       "      <th></th>\n",
       "      <th>Year</th>\n",
       "      <th>Finland</th>\n",
       "      <th>Finnish operators’ notifications outside of Finland</th>\n",
       "      <th>disturbance_year</th>\n",
       "      <th>end_date</th>\n",
       "      <th>disturbances_Finland</th>\n",
       "      <th>disturbances_Outside</th>\n",
       "      <th>weighting_factors</th>\n",
       "    </tr>\n",
       "  </thead>\n",
       "  <tbody>\n",
       "    <tr>\n",
       "      <th>0</th>\n",
       "      <td>2018</td>\n",
       "      <td>0</td>\n",
       "      <td>6</td>\n",
       "      <td>2018</td>\n",
       "      <td>365</td>\n",
       "      <td>0</td>\n",
       "      <td>6</td>\n",
       "      <td>1.000000</td>\n",
       "    </tr>\n",
       "    <tr>\n",
       "      <th>1</th>\n",
       "      <td>2019</td>\n",
       "      <td>8</td>\n",
       "      <td>137</td>\n",
       "      <td>2019</td>\n",
       "      <td>365</td>\n",
       "      <td>8</td>\n",
       "      <td>137</td>\n",
       "      <td>1.000000</td>\n",
       "    </tr>\n",
       "    <tr>\n",
       "      <th>2</th>\n",
       "      <td>2020</td>\n",
       "      <td>27</td>\n",
       "      <td>34</td>\n",
       "      <td>2020</td>\n",
       "      <td>366</td>\n",
       "      <td>27</td>\n",
       "      <td>34</td>\n",
       "      <td>0.997268</td>\n",
       "    </tr>\n",
       "    <tr>\n",
       "      <th>3</th>\n",
       "      <td>2021</td>\n",
       "      <td>8</td>\n",
       "      <td>71</td>\n",
       "      <td>2021</td>\n",
       "      <td>365</td>\n",
       "      <td>8</td>\n",
       "      <td>71</td>\n",
       "      <td>1.000000</td>\n",
       "    </tr>\n",
       "    <tr>\n",
       "      <th>4</th>\n",
       "      <td>2022</td>\n",
       "      <td>65</td>\n",
       "      <td>1331</td>\n",
       "      <td>2022</td>\n",
       "      <td>365</td>\n",
       "      <td>65</td>\n",
       "      <td>1331</td>\n",
       "      <td>1.000000</td>\n",
       "    </tr>\n",
       "    <tr>\n",
       "      <th>5</th>\n",
       "      <td>2023</td>\n",
       "      <td>239</td>\n",
       "      <td>7370</td>\n",
       "      <td>2023</td>\n",
       "      <td>365</td>\n",
       "      <td>239</td>\n",
       "      <td>7370</td>\n",
       "      <td>1.000000</td>\n",
       "    </tr>\n",
       "    <tr>\n",
       "      <th>6</th>\n",
       "      <td>2024 (by 30 April)</td>\n",
       "      <td>Around 1200</td>\n",
       "      <td>Around 2100</td>\n",
       "      <td>2024</td>\n",
       "      <td>121</td>\n",
       "      <td>1200</td>\n",
       "      <td>2100</td>\n",
       "      <td>3.016529</td>\n",
       "    </tr>\n",
       "  </tbody>\n",
       "</table>\n",
       "</div>"
      ],
      "text/plain": [
       "                 Year      Finland  \\\n",
       "0                2018            0   \n",
       "1                2019            8   \n",
       "2                2020           27   \n",
       "3                2021            8   \n",
       "4                2022           65   \n",
       "5                2023          239   \n",
       "6  2024 (by 30 April)  Around 1200   \n",
       "\n",
       "  Finnish operators’ notifications outside of Finland disturbance_year  \\\n",
       "0                                                  6              2018   \n",
       "1                                                137              2019   \n",
       "2                                                 34              2020   \n",
       "3                                                 71              2021   \n",
       "4                                               1331              2022   \n",
       "5                                               7370              2023   \n",
       "6                                        Around 2100              2024   \n",
       "\n",
       "   end_date  disturbances_Finland  disturbances_Outside  weighting_factors  \n",
       "0       365                     0                     6           1.000000  \n",
       "1       365                     8                   137           1.000000  \n",
       "2       366                    27                    34           0.997268  \n",
       "3       365                     8                    71           1.000000  \n",
       "4       365                    65                  1331           1.000000  \n",
       "5       365                   239                  7370           1.000000  \n",
       "6       121                  1200                  2100           3.016529  "
      ]
     },
     "execution_count": 26,
     "metadata": {},
     "output_type": "execute_result"
    }
   ],
   "source": [
    "(fi_data\n",
    " .pipe(clean_table)\n",
    ")"
   ]
  },
  {
   "cell_type": "code",
   "execution_count": 27,
   "id": "b3e105af-86e0-4064-a958-696f54334652",
   "metadata": {},
   "outputs": [
    {
     "data": {
      "text/plain": [
       "<Axes: xlabel='disturbance_year'>"
      ]
     },
     "execution_count": 27,
     "metadata": {},
     "output_type": "execute_result"
    },
    {
     "data": {
      "image/png": "[encoded data removed]",
      "text/plain": [
       "<Figure size 640x480 with 1 Axes>"
      ]
     },
     "metadata": {},
     "output_type": "display_data"
    }
   ],
   "source": [
    "(fi_data\n",
    " .pipe(clean_table)\n",
    " .set_index('disturbance_year')\n",
    " .disturbances_Finland * \n",
    " fi_data\n",
    " .pipe(clean_table)\n",
    " .set_index('disturbance_year')\n",
    " .weighting_factors\n",
    ").plot()"
   ]
  },
  {
   "cell_type": "code",
   "execution_count": 28,
   "id": "2ef58484-e581-4886-ba21-dc1906cf34bf",
   "metadata": {},
   "outputs": [
    {
     "data": {
      "text/plain": [
       "<Axes: xlabel='disturbance_year'>"
      ]
     },
     "execution_count": 28,
     "metadata": {},
     "output_type": "execute_result"
    },
    {
     "data": {
      "image/png": "[encoded data removed]",
      "text/plain": [
       "<Figure size 640x480 with 1 Axes>"
      ]
     },
     "metadata": {},
     "output_type": "display_data"
    }
   ],
   "source": [
    "(fi_data\n",
    " .pipe(clean_table)\n",
    " .set_index('disturbance_year')\n",
    " .disturbances_Outside * \n",
    " fi_data\n",
    " .pipe(clean_table)\n",
    " .set_index('disturbance_year')\n",
    " .weighting_factors\n",
    ").plot()"
   ]
  },
  {
   "cell_type": "code",
   "execution_count": null,
   "id": "d36eba73-b809-4921-80cd-5fd904abf61f",
   "metadata": {},
   "outputs": [],
   "source": []
  }
 ],
 "metadata": {
  "kernelspec": {
   "display_name": "Python 3 (ipykernel)",
   "language": "python",
   "name": "python3"
  },
  "language_info": {
   "codemirror_mode": {
    "name": "ipython",
    "version": 3
   },
   "file_extension": ".py",
   "mimetype": "text/x-python",
   "name": "python",
   "nbconvert_exporter": "python",
   "pygments_lexer": "ipython3",
   "version": "3.10.13"
  }
 },
 "nbformat": 4,
 "nbformat_minor": 5
}
