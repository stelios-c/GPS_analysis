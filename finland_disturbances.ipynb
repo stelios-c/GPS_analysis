{
 "cells": [
  {
   "cell_type": "code",
   "execution_count": 3,
   "id": "5cb36e41-7feb-41cb-8b99-75753db8759e",
   "metadata": {
    "jupyter": {
     "source_hidden": true
    }
   },
   "outputs": [
    {
     "name": "stdout",
     "output_type": "stream",
     "text": [
      "Collecting lxml\n",
      "  Downloading lxml-5.2.1-cp310-cp310-manylinux_2_28_x86_64.whl.metadata (3.4 kB)\n",
      "Downloading lxml-5.2.1-cp310-cp310-manylinux_2_28_x86_64.whl (5.0 MB)\n",
      "\u001b[2K   \u001b[90m━━━━━━━━━━━━━━━━━━━━━━━━━━━━━━━━━━━━━━━━\u001b[0m \u001b[32m5.0/5.0 MB\u001b[0m \u001b[31m43.2 MB/s\u001b[0m eta \u001b[36m0:00:00\u001b[0m:00:01\u001b[0m00:01\u001b[0m\n",
      "\u001b[?25hInstalling collected packages: lxml\n",
      "Successfully installed lxml-5.2.1\n",
      "Note: you may need to restart the kernel to use updated packages.\n"
     ]
    }
   ],
   "source": [
    "%pip install lxml"
   ]
  },
  {
   "cell_type": "code",
   "execution_count": 42,
   "id": "159a8df7-1812-44d6-98c0-809906c05a81",
   "metadata": {},
   "outputs": [],
   "source": [
    "import pandas as pd\n",
    "from datetime import datetime as dt"
   ]
  },
  {
   "cell_type": "code",
   "execution_count": 4,
   "id": "139f8ca0-9826-4364-ab56-1b8288c36c07",
   "metadata": {},
   "outputs": [],
   "source": [
    "finland_disturbances=pd.read_html('https://www.traficom.fi/en/news/situational-picture-disturbances-satellite-navigation-finland-2024')"
   ]
  },
  {
   "cell_type": "code",
   "execution_count": 12,
   "id": "cfd92010-187b-4af3-b129-8b75bd71a858",
   "metadata": {},
   "outputs": [],
   "source": [
    "finland_disturbances[0].to_csv('finland_disturbance.csv',index=False)"
   ]
  },
  {
   "cell_type": "code",
   "execution_count": 38,
   "id": "9554b6ed-01db-43ea-96ca-ff0ddcb6bcb0",
   "metadata": {},
   "outputs": [
    {
     "data": {
      "text/html": [
       "<div>\n",
       "<style scoped>\n",
       "    .dataframe tbody tr th:only-of-type {\n",
       "        vertical-align: middle;\n",
       "    }\n",
       "\n",
       "    .dataframe tbody tr th {\n",
       "        vertical-align: top;\n",
       "    }\n",
       "\n",
       "    .dataframe thead th {\n",
       "        text-align: right;\n",
       "    }\n",
       "</style>\n",
       "<table border=\"1\" class=\"dataframe\">\n",
       "  <thead>\n",
       "    <tr style=\"text-align: right;\">\n",
       "      <th></th>\n",
       "      <th>Year</th>\n",
       "      <th>Finland</th>\n",
       "      <th>Finnish operators’ notifications outside of Finland</th>\n",
       "    </tr>\n",
       "  </thead>\n",
       "  <tbody>\n",
       "    <tr>\n",
       "      <th>0</th>\n",
       "      <td>2018</td>\n",
       "      <td>0</td>\n",
       "      <td>6</td>\n",
       "    </tr>\n",
       "    <tr>\n",
       "      <th>1</th>\n",
       "      <td>2019</td>\n",
       "      <td>8</td>\n",
       "      <td>137</td>\n",
       "    </tr>\n",
       "    <tr>\n",
       "      <th>2</th>\n",
       "      <td>2020</td>\n",
       "      <td>27</td>\n",
       "      <td>34</td>\n",
       "    </tr>\n",
       "    <tr>\n",
       "      <th>3</th>\n",
       "      <td>2021</td>\n",
       "      <td>8</td>\n",
       "      <td>71</td>\n",
       "    </tr>\n",
       "    <tr>\n",
       "      <th>4</th>\n",
       "      <td>2022</td>\n",
       "      <td>65</td>\n",
       "      <td>1331</td>\n",
       "    </tr>\n",
       "    <tr>\n",
       "      <th>5</th>\n",
       "      <td>2023</td>\n",
       "      <td>239</td>\n",
       "      <td>7370</td>\n",
       "    </tr>\n",
       "    <tr>\n",
       "      <th>6</th>\n",
       "      <td>2024 (by 30 April)</td>\n",
       "      <td>Around 1200</td>\n",
       "      <td>Around 2100</td>\n",
       "    </tr>\n",
       "  </tbody>\n",
       "</table>\n",
       "</div>"
      ],
      "text/plain": [
       "                 Year      Finland  \\\n",
       "0                2018            0   \n",
       "1                2019            8   \n",
       "2                2020           27   \n",
       "3                2021            8   \n",
       "4                2022           65   \n",
       "5                2023          239   \n",
       "6  2024 (by 30 April)  Around 1200   \n",
       "\n",
       "  Finnish operators’ notifications outside of Finland  \n",
       "0                                                  6   \n",
       "1                                                137   \n",
       "2                                                 34   \n",
       "3                                                 71   \n",
       "4                                               1331   \n",
       "5                                               7370   \n",
       "6                                        Around 2100   "
      ]
     },
     "execution_count": 38,
     "metadata": {},
     "output_type": "execute_result"
    }
   ],
   "source": [
    "fi_data"
   ]
  },
  {
   "cell_type": "code",
   "execution_count": 16,
   "id": "593afdba-b997-4055-8e6a-1cb2013c1c2f",
   "metadata": {},
   "outputs": [],
   "source": [
    "fi_data=pd.read_csv('finland_disturbance.csv',header=1)"
   ]
  },
  {
   "cell_type": "code",
   "execution_count": 64,
   "id": "0aabaea1-0f44-4149-9271-6e03d99689ab",
   "metadata": {},
   "outputs": [
    {
     "data": {
      "text/plain": [
       "array([<Axes: xlabel='clean_year'>, <Axes: xlabel='clean_year'>],\n",
       "      dtype=object)"
      ]
     },
     "execution_count": 64,
     "metadata": {},
     "output_type": "execute_result"
    },
    {
     "data": {
      "image/png": "[encoded data removed]",
      "text/plain": [
       "<Figure size 640x480 with 2 Axes>"
      ]
     },
     "metadata": {},
     "output_type": "display_data"
    }
   ],
   "source": [
    "(fi_data\n",
    " .assign(\n",
    "     clean_year=fi_data.Year.str.split(' ',expand=True)[0],\n",
    "     clean_Finland=fi_data.Finland.str.replace('Around ','').astype('int32'),\n",
    "     clean_Outside=fi_data['Finnish operators’ notifications outside of Finland'].str.replace('Around ','').astype('int32')\n",
    " )\n",
    " .set_index('clean_year')\n",
    " .plot(subplots=True)\n",
    ")"
   ]
  },
  {
   "cell_type": "code",
   "execution_count": 39,
   "id": "39fd3a4a-9e3a-4c1a-b1e2-879e8cafa568",
   "metadata": {},
   "outputs": [],
   "source": [
    "table_list = pd.read_html(r'https://navcen.uscg.gov/gps-problem-report-status')\n",
    "table_list[0].to_csv('gps_navcen.csv',index=False)"
   ]
  },
  {
   "cell_type": "code",
   "execution_count": 61,
   "id": "22d33500-8535-45c8-95e0-6659dd7f3ec4",
   "metadata": {},
   "outputs": [],
   "source": [
    "gps_disruption_df=pd.read_csv('gps_navcen.csv')"
   ]
  },
  {
   "cell_type": "code",
   "execution_count": 63,
   "id": "84c2732e-3450-408d-a4fd-7554a7b06b77",
   "metadata": {},
   "outputs": [
    {
     "data": {
      "text/html": [
       "<div>\n",
       "<style scoped>\n",
       "    .dataframe tbody tr th:only-of-type {\n",
       "        vertical-align: middle;\n",
       "    }\n",
       "\n",
       "    .dataframe tbody tr th {\n",
       "        vertical-align: top;\n",
       "    }\n",
       "\n",
       "    .dataframe thead th {\n",
       "        text-align: right;\n",
       "    }\n",
       "</style>\n",
       "<table border=\"1\" class=\"dataframe\">\n",
       "  <thead>\n",
       "    <tr style=\"text-align: right;\">\n",
       "      <th></th>\n",
       "      <th>Disruption Date/Time</th>\n",
       "      <th>Location</th>\n",
       "      <th>Type</th>\n",
       "      <th>Description</th>\n",
       "      <th>Cause</th>\n",
       "      <th>Closed Date</th>\n",
       "    </tr>\n",
       "  </thead>\n",
       "  <tbody>\n",
       "    <tr>\n",
       "      <th>353</th>\n",
       "      <td>08/30/2019 08:23 GMT</td>\n",
       "      <td>Aarhus, Denmark</td>\n",
       "      <td>Timing</td>\n",
       "      <td>We observe pps (pulse per second)outages on se...</td>\n",
       "      <td>User Equipment</td>\n",
       "      <td>09/11/2019</td>\n",
       "    </tr>\n",
       "    <tr>\n",
       "      <th>405</th>\n",
       "      <td>04/05/2019 03:00 CET</td>\n",
       "      <td>Oulu, Finland</td>\n",
       "      <td>Communications</td>\n",
       "      <td>User: GPS Week Number Rollover expected on Apr...</td>\n",
       "      <td>User Equipment</td>\n",
       "      <td>06/03/2019</td>\n",
       "    </tr>\n",
       "    <tr>\n",
       "      <th>509</th>\n",
       "      <td>08/01/2017 00:00 EEST</td>\n",
       "      <td>Helsinki, Finland</td>\n",
       "      <td>Other</td>\n",
       "      <td>User: GPS lack about every 10-20 sec and not g...</td>\n",
       "      <td>Unknown Interference</td>\n",
       "      <td>05/20/2019</td>\n",
       "    </tr>\n",
       "  </tbody>\n",
       "</table>\n",
       "</div>"
      ],
      "text/plain": [
       "      Disruption Date/Time           Location            Type  \\\n",
       "353   08/30/2019 08:23 GMT    Aarhus, Denmark          Timing   \n",
       "405   04/05/2019 03:00 CET      Oulu, Finland  Communications   \n",
       "509  08/01/2017 00:00 EEST  Helsinki, Finland           Other   \n",
       "\n",
       "                                           Description                 Cause  \\\n",
       "353  We observe pps (pulse per second)outages on se...        User Equipment   \n",
       "405  User: GPS Week Number Rollover expected on Apr...        User Equipment   \n",
       "509  User: GPS lack about every 10-20 sec and not g...  Unknown Interference   \n",
       "\n",
       "    Closed Date  \n",
       "353  09/11/2019  \n",
       "405  06/03/2019  \n",
       "509  05/20/2019  "
      ]
     },
     "execution_count": 63,
     "metadata": {},
     "output_type": "execute_result"
    }
   ],
   "source": [
    "gps_disruption_df[gps_disruption_df.Location.str.lower().fillna('').str.contains('finland') | gps_disruption_df.Description.str.lower().fillna('').str.contains('finland')]#.fillna(False)]"
   ]
  },
  {
   "cell_type": "code",
   "execution_count": null,
   "id": "49721eab-b67e-45c6-ae29-d17496002072",
   "metadata": {},
   "outputs": [],
   "source": []
  }
 ],
 "metadata": {
  "kernelspec": {
   "display_name": "Python 3 (ipykernel)",
   "language": "python",
   "name": "python3"
  },
  "language_info": {
   "codemirror_mode": {
    "name": "ipython",
    "version": 3
   },
   "file_extension": ".py",
   "mimetype": "text/x-python",
   "name": "python",
   "nbconvert_exporter": "python",
   "pygments_lexer": "ipython3",
   "version": "3.10.13"
  }
 },
 "nbformat": 4,
 "nbformat_minor": 5
}
