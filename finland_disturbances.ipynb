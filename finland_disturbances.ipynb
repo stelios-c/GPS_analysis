{
 "cells": [
  {
   "cell_type": "markdown",
   "id": "aa7e78ed-5d8c-4a49-b9cc-3cc07046fa5d",
   "metadata": {
    "editable": true,
    "slideshow": {
     "slide_type": "slide"
    },
    "tags": []
   },
   "source": [
    "# Satellite navigation disturbances in Finland"
   ]
  },
  {
   "cell_type": "code",
   "execution_count": 3,
   "id": "5cb36e41-7feb-41cb-8b99-75753db8759e",
   "metadata": {
    "collapsed": true,
    "editable": true,
    "jupyter": {
     "outputs_hidden": true,
     "source_hidden": true
    },
    "slideshow": {
     "slide_type": ""
    },
    "tags": []
   },
   "outputs": [
    {
     "name": "stdout",
     "output_type": "stream",
     "text": [
      "Collecting lxml\n",
      "  Downloading lxml-5.2.1-cp310-cp310-manylinux_2_28_x86_64.whl.metadata (3.4 kB)\n",
      "Downloading lxml-5.2.1-cp310-cp310-manylinux_2_28_x86_64.whl (5.0 MB)\n",
      "\u001b[2K   \u001b[90m━━━━━━━━━━━━━━━━━━━━━━━━━━━━━━━━━━━━━━━━\u001b[0m \u001b[32m5.0/5.0 MB\u001b[0m \u001b[31m43.2 MB/s\u001b[0m eta \u001b[36m0:00:00\u001b[0m:00:01\u001b[0m00:01\u001b[0m\n",
      "\u001b[?25hInstalling collected packages: lxml\n",
      "Successfully installed lxml-5.2.1\n",
      "Note: you may need to restart the kernel to use updated packages.\n"
     ]
    }
   ],
   "source": [
    "%pip install lxml"
   ]
  },
  {
   "cell_type": "markdown",
   "id": "14f4d9f0-b087-40af-9853-0847cab1bd7c",
   "metadata": {},
   "source": [
    "required on Codespaces for pd.read_html()"
   ]
  },
  {
   "cell_type": "code",
   "execution_count": 13,
   "id": "159a8df7-1812-44d6-98c0-809906c05a81",
   "metadata": {
    "editable": true,
    "slideshow": {
     "slide_type": ""
    },
    "tags": []
   },
   "outputs": [],
   "source": [
    "import pandas as pd"
   ]
  },
  {
   "cell_type": "code",
   "execution_count": 16,
   "id": "139f8ca0-9826-4364-ab56-1b8288c36c07",
   "metadata": {
    "editable": true,
    "slideshow": {
     "slide_type": ""
    },
    "tags": []
   },
   "outputs": [],
   "source": [
    "url='situational-picture-disturbances-satellite-navigation-finland-2024'\n",
    "(pd\n",
    " .read_html('https://www.traficom.fi/en/news/'+url)\n",
    " [0]\n",
    " .to_csv('finland_disturbance.csv',index=False)\n",
    ")"
   ]
  },
  {
   "cell_type": "markdown",
   "id": "49393367-93ca-4577-b6e7-a91471075112",
   "metadata": {
    "editable": true,
    "slideshow": {
     "slide_type": ""
    },
    "tags": []
   },
   "source": [
    "Save data locally to avoid webscraping everytime I rerun the notebook."
   ]
  },
  {
   "cell_type": "code",
   "execution_count": 17,
   "id": "593afdba-b997-4055-8e6a-1cb2013c1c2f",
   "metadata": {
    "editable": true,
    "slideshow": {
     "slide_type": ""
    },
    "tags": []
   },
   "outputs": [],
   "source": [
    "fi_data=pd.read_csv('finland_disturbance.csv',header=1)"
   ]
  },
  {
   "cell_type": "code",
   "execution_count": 18,
   "id": "9554b6ed-01db-43ea-96ca-ff0ddcb6bcb0",
   "metadata": {
    "editable": true,
    "slideshow": {
     "slide_type": "slide"
    },
    "tags": []
   },
   "outputs": [
    {
     "data": {
      "text/html": [
       "<div>\n",
       "<style scoped>\n",
       "    .dataframe tbody tr th:only-of-type {\n",
       "        vertical-align: middle;\n",
       "    }\n",
       "\n",
       "    .dataframe tbody tr th {\n",
       "        vertical-align: top;\n",
       "    }\n",
       "\n",
       "    .dataframe thead th {\n",
       "        text-align: right;\n",
       "    }\n",
       "</style>\n",
       "<table border=\"1\" class=\"dataframe\">\n",
       "  <thead>\n",
       "    <tr style=\"text-align: right;\">\n",
       "      <th></th>\n",
       "      <th>Year</th>\n",
       "      <th>Finland</th>\n",
       "      <th>Finnish operators’ notifications outside of Finland</th>\n",
       "    </tr>\n",
       "  </thead>\n",
       "  <tbody>\n",
       "    <tr>\n",
       "      <th>0</th>\n",
       "      <td>2018</td>\n",
       "      <td>0</td>\n",
       "      <td>6</td>\n",
       "    </tr>\n",
       "    <tr>\n",
       "      <th>1</th>\n",
       "      <td>2019</td>\n",
       "      <td>8</td>\n",
       "      <td>137</td>\n",
       "    </tr>\n",
       "    <tr>\n",
       "      <th>2</th>\n",
       "      <td>2020</td>\n",
       "      <td>27</td>\n",
       "      <td>34</td>\n",
       "    </tr>\n",
       "    <tr>\n",
       "      <th>3</th>\n",
       "      <td>2021</td>\n",
       "      <td>8</td>\n",
       "      <td>71</td>\n",
       "    </tr>\n",
       "    <tr>\n",
       "      <th>4</th>\n",
       "      <td>2022</td>\n",
       "      <td>65</td>\n",
       "      <td>1331</td>\n",
       "    </tr>\n",
       "    <tr>\n",
       "      <th>5</th>\n",
       "      <td>2023</td>\n",
       "      <td>239</td>\n",
       "      <td>7370</td>\n",
       "    </tr>\n",
       "    <tr>\n",
       "      <th>6</th>\n",
       "      <td>2024 (by 30 April)</td>\n",
       "      <td>Around 1200</td>\n",
       "      <td>Around 2100</td>\n",
       "    </tr>\n",
       "  </tbody>\n",
       "</table>\n",
       "</div>"
      ],
      "text/plain": [
       "                 Year      Finland  \\\n",
       "0                2018            0   \n",
       "1                2019            8   \n",
       "2                2020           27   \n",
       "3                2021            8   \n",
       "4                2022           65   \n",
       "5                2023          239   \n",
       "6  2024 (by 30 April)  Around 1200   \n",
       "\n",
       "  Finnish operators’ notifications outside of Finland  \n",
       "0                                                  6   \n",
       "1                                                137   \n",
       "2                                                 34   \n",
       "3                                                 71   \n",
       "4                                               1331   \n",
       "5                                               7370   \n",
       "6                                        Around 2100   "
      ]
     },
     "execution_count": 18,
     "metadata": {},
     "output_type": "execute_result"
    }
   ],
   "source": [
    "fi_data"
   ]
  },
  {
   "cell_type": "markdown",
   "id": "19a51bb6-4be1-440f-9ea0-40789787261f",
   "metadata": {
    "editable": true,
    "slideshow": {
     "slide_type": ""
    },
    "tags": []
   },
   "source": [
    "Unfortunately the last line is not purely numeric and needs some cleanup."
   ]
  },
  {
   "cell_type": "code",
   "execution_count": 23,
   "id": "0aabaea1-0f44-4149-9271-6e03d99689ab",
   "metadata": {
    "editable": true,
    "slideshow": {
     "slide_type": "slide"
    },
    "tags": []
   },
   "outputs": [
    {
     "data": {
      "text/plain": [
       "array([<Axes: xlabel='disturbance_year'>,\n",
       "       <Axes: xlabel='disturbance_year'>], dtype=object)"
      ]
     },
     "execution_count": 23,
     "metadata": {},
     "output_type": "execute_result"
    },
    {
     "data": {
      "image/png": "[encoded data removed]",
      "text/plain": [
       "<Figure size 640x480 with 2 Axes>"
      ]
     },
     "metadata": {},
     "output_type": "display_data"
    }
   ],
   "source": [
    "(fi_data\n",
    " .assign(\n",
    "     disturbance_year=fi_data\n",
    "     .Year\n",
    "     .str.split(' ',expand=True)[0],\n",
    "     disturbances_Finland=fi_data\n",
    "     .Finland.str.replace('Around ','').astype('int32'),\n",
    "     disturbances_Outside=fi_data\n",
    "     ['Finnish operators’ notifications outside of Finland']\n",
    "     .str.replace('Around ','').astype('int32')\n",
    " )\n",
    " .set_index('disturbance_year')\n",
    " .plot(subplots=True)\n",
    ")"
   ]
  }
 ],
 "metadata": {
  "kernelspec": {
   "display_name": "Python 3 (ipykernel)",
   "language": "python",
   "name": "python3"
  },
  "language_info": {
   "codemirror_mode": {
    "name": "ipython",
    "version": 3
   },
   "file_extension": ".py",
   "mimetype": "text/x-python",
   "name": "python",
   "nbconvert_exporter": "python",
   "pygments_lexer": "ipython3",
   "version": "3.10.13"
  }
 },
 "nbformat": 4,
 "nbformat_minor": 5
}
