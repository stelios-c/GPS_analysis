{
 "cells": [
  {
   "cell_type": "markdown",
   "id": "ee4b7499-857d-4bac-9dda-3bfecace8dd9",
   "metadata": {},
   "source": [
    "In Lithuania: starting from 556 cases in March 2024 to 890 in October 2024 and 1185 in January 2025; \n",
    "in Latvia: from 790 cases in October 2024 to 1288 cases in January 2025; \n",
    "in Estonia: 1150 cases in October 2024 and 1085 cases in January 2025; \n",
    "in Poland: 1908 cases in October 2024 to 2732 cases in January 2025 (according to unique ICAO ID per month)."
   ]
  },
  {
   "cell_type": "code",
   "execution_count": 1,
   "id": "69fe2ca3-83e5-4fc7-9068-e5479c092e9a",
   "metadata": {},
   "outputs": [],
   "source": [
    "import pandas as pd"
   ]
  },
  {
   "cell_type": "code",
   "execution_count": 2,
   "id": "ca8b8339-0472-4f69-9da7-076a1a553b7e",
   "metadata": {},
   "outputs": [],
   "source": [
    "eu_call_data=pd.read_csv('eu_call_data.csv',)"
   ]
  },
  {
   "cell_type": "code",
   "execution_count": 8,
   "id": "ad7d9b52-7816-4f31-a5bb-c78fd5445e80",
   "metadata": {},
   "outputs": [
    {
     "data": {
      "text/html": [
       "<div>\n",
       "<style scoped>\n",
       "    .dataframe tbody tr th:only-of-type {\n",
       "        vertical-align: middle;\n",
       "    }\n",
       "\n",
       "    .dataframe tbody tr th {\n",
       "        vertical-align: top;\n",
       "    }\n",
       "\n",
       "    .dataframe thead th {\n",
       "        text-align: right;\n",
       "    }\n",
       "</style>\n",
       "<table border=\"1\" class=\"dataframe\">\n",
       "  <thead>\n",
       "    <tr style=\"text-align: right;\">\n",
       "      <th>Country</th>\n",
       "      <th>Lithuania</th>\n",
       "      <th>Latvia</th>\n",
       "      <th>Estonia</th>\n",
       "      <th>Poland</th>\n",
       "    </tr>\n",
       "  </thead>\n",
       "  <tbody>\n",
       "    <tr>\n",
       "      <th>2024-03-01</th>\n",
       "      <td>556.0</td>\n",
       "      <td>NaN</td>\n",
       "      <td>NaN</td>\n",
       "      <td>NaN</td>\n",
       "    </tr>\n",
       "    <tr>\n",
       "      <th>2024-10-01</th>\n",
       "      <td>890.0</td>\n",
       "      <td>790.0</td>\n",
       "      <td>1150.0</td>\n",
       "      <td>1908.0</td>\n",
       "    </tr>\n",
       "    <tr>\n",
       "      <th>2025-01-01</th>\n",
       "      <td>1185.0</td>\n",
       "      <td>1288.0</td>\n",
       "      <td>1085.0</td>\n",
       "      <td>2732.0</td>\n",
       "    </tr>\n",
       "  </tbody>\n",
       "</table>\n",
       "</div>"
      ],
      "text/plain": [
       "Country     Lithuania  Latvia  Estonia  Poland\n",
       "2024-03-01      556.0     NaN      NaN     NaN\n",
       "2024-10-01      890.0   790.0   1150.0  1908.0\n",
       "2025-01-01     1185.0  1288.0   1085.0  2732.0"
      ]
     },
     "execution_count": 8,
     "metadata": {},
     "output_type": "execute_result"
    }
   ],
   "source": [
    "(eu_call_data\n",
    "    .set_index('Country').T\n",
    "    #.Index.rename('month_year')\n",
    "    #.assign(\n",
    "    #    date= lambda df: df.month_year.to_datetime(format='%m%Y')\n",
    "    #)\n",
    "    #.plot(marker='.')\n",
    ")"
   ]
  },
  {
   "cell_type": "code",
   "execution_count": null,
   "id": "8f167d75-2a6d-44d3-b3b1-f1f5f4f95b1b",
   "metadata": {},
   "outputs": [],
   "source": []
  }
 ],
 "metadata": {
  "kernelspec": {
   "display_name": "Python 3 (ipykernel)",
   "language": "python",
   "name": "python3"
  },
  "language_info": {
   "codemirror_mode": {
    "name": "ipython",
    "version": 3
   },
   "file_extension": ".py",
   "mimetype": "text/x-python",
   "name": "python",
   "nbconvert_exporter": "python",
   "pygments_lexer": "ipython3",
   "version": "3.12.1"
  }
 },
 "nbformat": 4,
 "nbformat_minor": 5
}
